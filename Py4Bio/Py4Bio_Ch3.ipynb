{
 "cells": [
  {
   "cell_type": "code",
   "execution_count": 7,
   "metadata": {},
   "outputs": [],
   "source": [
    "#designationg the file we are going to work with\n",
    "my_file = open(\"dna.txt\")"
   ]
  },
  {
   "cell_type": "code",
   "execution_count": 8,
   "metadata": {},
   "outputs": [
    {
     "name": "stdout",
     "output_type": "stream",
     "text": [
      "ACTGTACGTGCACTGATC\n",
      "\n"
     ]
    }
   ],
   "source": [
    "#reading and viewing the contents of a file\n",
    "file_contents = my_file.read()\n",
    "print(file_contents)"
   ]
  },
  {
   "cell_type": "code",
   "execution_count": 9,
   "metadata": {},
   "outputs": [
    {
     "name": "stdout",
     "output_type": "stream",
     "text": [
      "sequence is ACTGTACGTGCACTGATC\n",
      "and length is 19\n"
     ]
    }
   ],
   "source": [
    "#open the file\n",
    "my_file = open(\"dna.txt\")\n",
    "#read the contents\n",
    "my_dna = my_file.read()\n",
    "#calculate the length\n",
    "dna_length = len(my_dna)\n",
    "#print the output\n",
    "print(\"sequence is \" +my_dna + \"and length is \" + str(dna_length))"
   ]
  },
  {
   "cell_type": "code",
   "execution_count": 11,
   "metadata": {},
   "outputs": [
    {
     "name": "stdout",
     "output_type": "stream",
     "text": [
      "sequence is ACTGTACGTGCACTGATC and length is 18\n"
     ]
    }
   ],
   "source": [
    "my_file = open(\"dna.txt\")\n",
    "my_file_contents = my_file.read()\n",
    "#remove the newline from the end of the file contents\n",
    "my_dna = my_file_contents.rstrip(\"\\n\")\n",
    "dna_length = len(my_dna)\n",
    "print(\"sequence is \" + my_dna + \" and length is \" + str(dna_length))"
   ]
  },
  {
   "cell_type": "code",
   "execution_count": 15,
   "metadata": {},
   "outputs": [
    {
     "name": "stdout",
     "output_type": "stream",
     "text": [
      "sequence is ACTGTACGTGCACTGATC and length is 18\n"
     ]
    }
   ],
   "source": [
    "#read and remove the new line all in one command\n",
    "my_file = open(\"dna.txt\")\n",
    "my_dna = my_file.read().rstrip(\"\\n\")\n",
    "print(\"sequence is \" + my_dna + \" and length is \" + str(dna_length))"
   ]
  },
  {
   "cell_type": "code",
   "execution_count": 17,
   "metadata": {},
   "outputs": [
    {
     "data": {
      "text/plain": [
       "11"
      ]
     },
     "execution_count": 17,
     "metadata": {},
     "output_type": "execute_result"
    }
   ],
   "source": [
    "my_file = open(\"out.txt\", \"w\")\n",
    "my_file.write(\"Hello world\")"
   ]
  },
  {
   "cell_type": "code",
   "execution_count": 20,
   "metadata": {},
   "outputs": [],
   "source": [
    "my_file = open(\"out.txt\", \"w\")\n",
    "my_file.write(\"Hello world\")\n",
    "#remember to close the file\n",
    "my_file.close()"
   ]
  },
  {
   "cell_type": "code",
   "execution_count": 28,
   "metadata": {},
   "outputs": [
    {
     "data": {
      "text/plain": [
       "28"
      ]
     },
     "execution_count": 28,
     "metadata": {},
     "output_type": "execute_result"
    }
   ],
   "source": [
    "#exercise 1: splitting genomic DNA\n",
    "#opening original file\n",
    "my_genome = open(\"genomic_dna.txt\")\n",
    "#you have to read the file to manipulate it!\n",
    "my_dna = my_genome.read()\n",
    "#defining coding and non-coding regions\n",
    "exon1 = my_dna[0:63]\n",
    "exon2 = my_dna[91:124]\n",
    "intron = my_dna[63:91]\n",
    "#making new files\n",
    "my_exons = open(\"coding.txt\", \"w\")\n",
    "my_intron = open(\"noncoding.txt\", \"w\")\n",
    "#writing to theose files\n",
    "my_exons.write(exon1 + exon2)\n",
    "my_intron.write(intron)"
   ]
  },
  {
   "cell_type": "code",
   "execution_count": 34,
   "metadata": {},
   "outputs": [
    {
     "name": "stdout",
     "output_type": "stream",
     "text": [
      ">ABC123\n",
      "ATCGTACGATCGATCGATCGCTAGACGTATCG\n",
      ">DEF456\n",
      "ACTGATCGACGATCGATCGATCACGACT\n",
      ">HIJ789\n",
      "ACTGACACTGTACTGTACATGTG\n"
     ]
    },
    {
     "data": {
      "text/plain": [
       "109"
      ]
     },
     "execution_count": 34,
     "metadata": {},
     "output_type": "execute_result"
    }
   ],
   "source": [
    "#exercise 2: writing a FASTA file\n",
    "#make the file\n",
    "fasta = open(\"first_fasta.fasta\", \"w\")\n",
    "#define variables\n",
    "head1 = 'ABC123'\n",
    "head2 = 'DEF456'\n",
    "head3 = 'HIJ789'\n",
    "seq1 = 'ATCGTACGATCGATCGATCGCTAGACGTATCG'\n",
    "seq2 = 'actgatcgacgatcgatcgatcacgact'\n",
    "seq3 = 'ACTGAC-ACTGT--ACTGTA----CATGTG'\n",
    "#just try printing it to the screen frist\n",
    "print('>' + head1 + '\\n' + seq1)\n",
    "print('>' + head2 + '\\n' + seq2.upper())\n",
    "print('>' + head3 + '\\n' + seq3.replace('-', ''))\n",
    "#write to the file\n",
    "fasta.write('>' + head1 + '\\n' + seq1 + '\\n' + '>' + head2 + '\\n' + seq2.upper() +'\\n' + '>' + head3 + '\\n' + seq3.replace('-', ''))"
   ]
  },
  {
   "cell_type": "code",
   "execution_count": 37,
   "metadata": {},
   "outputs": [
    {
     "data": {
      "text/plain": [
       "31"
      ]
     },
     "execution_count": 37,
     "metadata": {},
     "output_type": "execute_result"
    }
   ],
   "source": [
    "#exercise 3: writing multiple fasta files\n",
    "#make the new files\n",
    "seq1_file = open(head1 + \".fasta\", \"w\")\n",
    "seq2_file = open(head2 + \".fasta\", \"w\")\n",
    "seq3_file = open(head3 + \".fasta\", \"w\")\n",
    "#write to the files\n",
    "seq1_file.write('>' + head1 + '\\n' + seq1)\n",
    "seq2_file.write('>' + head2 + '\\n' + seq2.upper())\n",
    "seq3_file.write('>' + head3 + '\\n' + seq3.replace('-', ''))"
   ]
  },
  {
   "cell_type": "code",
   "execution_count": null,
   "metadata": {},
   "outputs": [],
   "source": []
  }
 ],
 "metadata": {
  "kernelspec": {
   "display_name": "Python 3",
   "language": "python",
   "name": "python3"
  },
  "language_info": {
   "codemirror_mode": {
    "name": "ipython",
    "version": 3
   },
   "file_extension": ".py",
   "mimetype": "text/x-python",
   "name": "python",
   "nbconvert_exporter": "python",
   "pygments_lexer": "ipython3",
   "version": "3.7.4"
  }
 },
 "nbformat": 4,
 "nbformat_minor": 2
}
