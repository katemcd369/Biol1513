{
 "cells": [
  {
   "cell_type": "code",
   "execution_count": 1,
   "metadata": {},
   "outputs": [],
   "source": [
    "#name of the file with out DNA sequence\n",
    "filename = \"dna.txt\"\n",
    "\n",
    "infile = open(filename, 'r')"
   ]
  },
  {
   "cell_type": "code",
   "execution_count": 14,
   "metadata": {},
   "outputs": [],
   "source": [
    "#read the file\n",
    "dna_sequence = infile.read()\n",
    "\n",
    "#close the file\n",
    "infile.close()"
   ]
  },
  {
   "cell_type": "code",
   "execution_count": 4,
   "metadata": {},
   "outputs": [
    {
     "name": "stdout",
     "output_type": "stream",
     "text": [
      "ACTGTACGTGCACTGATC\n",
      "\n"
     ]
    }
   ],
   "source": [
    "print(dna_sequence)"
   ]
  },
  {
   "cell_type": "code",
   "execution_count": 11,
   "metadata": {},
   "outputs": [
    {
     "name": "stdout",
     "output_type": "stream",
     "text": [
      "19\n",
      "19\n",
      "the length is: 19\n",
      "the length is: 19\n"
     ]
    }
   ],
   "source": [
    "#calculate the length of the sequence\n",
    "print(len(dna_sequence))\n",
    "\n",
    "seq_len = len(dna_sequence)\n",
    "print(seq_len)\n",
    "prefix = 'the length is:'\n",
    "print('the length is: ' + str(seq_len))\n",
    "print(prefix, str(seq_len))\n",
    "#a comma concatenates and adds a space between the two strings"
   ]
  },
  {
   "cell_type": "code",
   "execution_count": 12,
   "metadata": {},
   "outputs": [],
   "source": [
    "#we want to write is out to a file\n",
    "output = \"sequence_length.txt\"\n",
    "outfile = open(output, 'w')"
   ]
  },
  {
   "cell_type": "code",
   "execution_count": 13,
   "metadata": {},
   "outputs": [
    {
     "data": {
      "text/plain": [
       "19"
      ]
     },
     "execution_count": 13,
     "metadata": {},
     "output_type": "execute_result"
    }
   ],
   "source": [
    "outfile.write('DNA sequence: ' + dna_sequence)\n",
    "outfile.write('sequence length: ' + str(seq_len))"
   ]
  },
  {
   "cell_type": "code",
   "execution_count": 15,
   "metadata": {},
   "outputs": [],
   "source": [
    "#done writing to file so close it\n",
    "outfile.close()"
   ]
  },
  {
   "cell_type": "code",
   "execution_count": 21,
   "metadata": {},
   "outputs": [],
   "source": [
    "#another way to read file (kind works like a list so everything after the first line needs to be indented)\n",
    "#with open('data.txt') as input_file:\n",
    "#    data = input_file.read().rstrip('\\n')"
   ]
  },
  {
   "cell_type": "code",
   "execution_count": 22,
   "metadata": {},
   "outputs": [
    {
     "name": "stdout",
     "output_type": "stream",
     "text": [
      "bananas\n",
      "apples\n",
      "grapes\n",
      "oranges\n",
      "raspberries\n",
      "blueberries\n"
     ]
    }
   ],
   "source": [
    "#print(data)"
   ]
  },
  {
   "cell_type": "code",
   "execution_count": 27,
   "metadata": {},
   "outputs": [
    {
     "name": "stdout",
     "output_type": "stream",
     "text": [
      "line 0 : bananas\n",
      "line 1 : apples\n",
      "line 2 : grapes\n",
      "line 3 : oranges\n",
      "line 4 : raspberries\n",
      "line 5 : blueberries\n"
     ]
    }
   ],
   "source": [
    "data2 = open('data.txt', \"r\")\n",
    "i = 0\n",
    "#for loop reads the file line by line\n",
    "for beyonce in data2:\n",
    "    print('line', i, ':', beyonce, end = '')\n",
    "    i += 1"
   ]
  },
  {
   "cell_type": "code",
   "execution_count": null,
   "metadata": {},
   "outputs": [],
   "source": []
  }
 ],
 "metadata": {
  "kernelspec": {
   "display_name": "Python 3",
   "language": "python",
   "name": "python3"
  },
  "language_info": {
   "codemirror_mode": {
    "name": "ipython",
    "version": 3
   },
   "file_extension": ".py",
   "mimetype": "text/x-python",
   "name": "python",
   "nbconvert_exporter": "python",
   "pygments_lexer": "ipython3",
   "version": "3.7.4"
  }
 },
 "nbformat": 4,
 "nbformat_minor": 2
}
