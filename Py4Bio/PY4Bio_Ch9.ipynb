{
 "cells": [
  {
   "cell_type": "code",
   "execution_count": 1,
   "metadata": {},
   "outputs": [
    {
     "ename": "NameError",
     "evalue": "name 'os' is not defined",
     "output_type": "error",
     "traceback": [
      "\u001b[1;31m---------------------------------------------------------------------------\u001b[0m",
      "\u001b[1;31mNameError\u001b[0m                                 Traceback (most recent call last)",
      "\u001b[1;32m<ipython-input-1-926ec9045956>\u001b[0m in \u001b[0;36m<module>\u001b[1;34m\u001b[0m\n\u001b[0;32m      1\u001b[0m \u001b[1;31m#test to see if it workd on Windows\u001b[0m\u001b[1;33m\u001b[0m\u001b[1;33m\u001b[0m\u001b[1;33m\u001b[0m\u001b[0m\n\u001b[1;32m----> 2\u001b[1;33m \u001b[0mos\u001b[0m\u001b[1;33m.\u001b[0m\u001b[0mrename\u001b[0m\u001b[1;33m(\u001b[0m\u001b[1;34m'old.txt'\u001b[0m\u001b[1;33m,\u001b[0m \u001b[1;34m'new.txt'\u001b[0m\u001b[1;33m)\u001b[0m\u001b[1;33m\u001b[0m\u001b[1;33m\u001b[0m\u001b[0m\n\u001b[0m",
      "\u001b[1;31mNameError\u001b[0m: name 'os' is not defined"
     ]
    }
   ],
   "source": [
    "#test to see if it workd on Windows\n",
    "os.rename('old.txt', 'new.txt')"
   ]
  },
  {
   "cell_type": "code",
   "execution_count": 2,
   "metadata": {},
   "outputs": [],
   "source": [
    "#import os module?\n",
    "import os"
   ]
  },
  {
   "cell_type": "code",
   "execution_count": 4,
   "metadata": {},
   "outputs": [],
   "source": [
    "os.rename('old.txt', 'new.txt')"
   ]
  },
  {
   "cell_type": "code",
   "execution_count": 11,
   "metadata": {},
   "outputs": [
    {
     "ename": "PermissionError",
     "evalue": "[WinError 5] Access is denied: 'new.txt' -> 'c:/Users/katel/'",
     "output_type": "error",
     "traceback": [
      "\u001b[1;31m---------------------------------------------------------------------------\u001b[0m",
      "\u001b[1;31mPermissionError\u001b[0m                           Traceback (most recent call last)",
      "\u001b[1;32m<ipython-input-11-d591048b80f7>\u001b[0m in \u001b[0;36m<module>\u001b[1;34m\u001b[0m\n\u001b[0;32m      1\u001b[0m \u001b[1;31m#moving the file my identifying the path to the new location\u001b[0m\u001b[1;33m\u001b[0m\u001b[1;33m\u001b[0m\u001b[1;33m\u001b[0m\u001b[0m\n\u001b[1;32m----> 2\u001b[1;33m \u001b[0mos\u001b[0m\u001b[1;33m.\u001b[0m\u001b[0mrename\u001b[0m\u001b[1;33m(\u001b[0m\u001b[1;34m'new.txt'\u001b[0m\u001b[1;33m,\u001b[0m \u001b[1;34m'c:/Users/katel/'\u001b[0m\u001b[1;33m)\u001b[0m\u001b[1;33m\u001b[0m\u001b[1;33m\u001b[0m\u001b[0m\n\u001b[0m",
      "\u001b[1;31mPermissionError\u001b[0m: [WinError 5] Access is denied: 'new.txt' -> 'c:/Users/katel/'"
     ]
    }
   ],
   "source": [
    "#moving the file my identifying the path to the new location\n",
    "os.rename('new.txt', 'c:/Users/katel/')"
   ]
  },
  {
   "cell_type": "code",
   "execution_count": 12,
   "metadata": {},
   "outputs": [
    {
     "ename": "FileNotFoundError",
     "evalue": "[WinError 3] The system cannot find the path specified: '/mnt/c/Users/katel/old_folder' -> '/mnt/c/Users/katel/new_folder'",
     "output_type": "error",
     "traceback": [
      "\u001b[1;31m---------------------------------------------------------------------------\u001b[0m",
      "\u001b[1;31mFileNotFoundError\u001b[0m                         Traceback (most recent call last)",
      "\u001b[1;32m<ipython-input-12-f67d986ca123>\u001b[0m in \u001b[0;36m<module>\u001b[1;34m\u001b[0m\n\u001b[0;32m      1\u001b[0m \u001b[1;31m#it works on folders too\u001b[0m\u001b[1;33m\u001b[0m\u001b[1;33m\u001b[0m\u001b[1;33m\u001b[0m\u001b[0m\n\u001b[1;32m----> 2\u001b[1;33m \u001b[0mos\u001b[0m\u001b[1;33m.\u001b[0m\u001b[0mrename\u001b[0m\u001b[1;33m(\u001b[0m\u001b[1;34m'/mnt/c/Users/katel/old_folder'\u001b[0m\u001b[1;33m,\u001b[0m \u001b[1;34m'/mnt/c/Users/katel/new_folder'\u001b[0m\u001b[1;33m)\u001b[0m\u001b[1;33m\u001b[0m\u001b[1;33m\u001b[0m\u001b[0m\n\u001b[0m",
      "\u001b[1;31mFileNotFoundError\u001b[0m: [WinError 3] The system cannot find the path specified: '/mnt/c/Users/katel/old_folder' -> '/mnt/c/Users/katel/new_folder'"
     ]
    }
   ],
   "source": [
    "#it works on folders too\n",
    "os.rename('/mnt/c/Users/katel/old_folder', '/mnt/c/Users/katel/new_folder')\n",
    "#this will not work without me going into the operating system of my computer and changing the permissions, but it will work if I write a script and run it through the command line"
   ]
  },
  {
   "cell_type": "code",
   "execution_count": 13,
   "metadata": {},
   "outputs": [],
   "source": [
    "#create a new directories with os.mkdir(/path/to/new/directory)"
   ]
  },
  {
   "cell_type": "code",
   "execution_count": 14,
   "metadata": {},
   "outputs": [],
   "source": [
    "#to copy a file use shutil.copy('first/location', 'new/location')"
   ]
  },
  {
   "cell_type": "code",
   "execution_count": 15,
   "metadata": {},
   "outputs": [],
   "source": [
    "#to copy a directory use shutil.copytree('old/location', 'new/location')"
   ]
  },
  {
   "cell_type": "code",
   "execution_count": 16,
   "metadata": {},
   "outputs": [
    {
     "name": "stdout",
     "output_type": "stream",
     "text": [
      "You have mail\n"
     ]
    }
   ],
   "source": [
    "# you can test if a file exsist using os.path.exists('path/to/file')\n",
    "#combine it with an if statement\n",
    "if os.path.exists('new.txt'):\n",
    "    print('You have mail')"
   ]
  },
  {
   "cell_type": "code",
   "execution_count": 17,
   "metadata": {},
   "outputs": [],
   "source": [
    "#deleting files and directories\n",
    "#files\n",
    "#os.remove('file_name')\n",
    "#empty directories\n",
    "#os.rmdir('path/to/directory')\n",
    "#full directories\n",
    "#os.rmtree('path/to/directory')"
   ]
  },
  {
   "cell_type": "code",
   "execution_count": 18,
   "metadata": {},
   "outputs": [
    {
     "name": "stdout",
     "output_type": "stream",
     "text": [
      "one file name is .gitignore\n",
      "one file name is .ipynb_checkpoints\n",
      "one file name is Ch5_Py4Bio.ipynb\n",
      "one file name is Class_3.4.20.ipynb\n",
      "one file name is data.txt\n",
      "one file name is dna.txt\n",
      "one file name is input.txt\n",
      "one file name is new.txt\n",
      "one file name is Py4Bio_Ch2.ipynb\n",
      "one file name is Py4Bio_Ch3.ipynb\n",
      "one file name is PY4Bio_Ch9.ipynb\n",
      "one file name is Py4Bop_Ch4.ipynb\n",
      "one file name is Python_Scripts\n",
      "one file name is sequence_length.txt\n",
      "one file name is trimmed.txt\n",
      "one file name is trimmed_2.txt\n"
     ]
    }
   ],
   "source": [
    "#listing folder contents\n",
    "#for the directory you are working in\n",
    "for file_name in os.listdir('.'):\n",
    "    print('one file name is ' + file_name)\n",
    "    "
   ]
  },
  {
   "cell_type": "code",
   "execution_count": 19,
   "metadata": {},
   "outputs": [],
   "source": [
    "#in different folders just list the path instead of ('.')"
   ]
  },
  {
   "cell_type": "code",
   "execution_count": 21,
   "metadata": {},
   "outputs": [],
   "source": [
    "#running an external program\n",
    "import subprocess\n",
    "#subprocess.call('/bin/date')\n",
    "#again permission is demied for Jupyter to work properly\n",
    "#output is printed straight to the screen"
   ]
  },
  {
   "cell_type": "code",
   "execution_count": 1,
   "metadata": {},
   "outputs": [],
   "source": [
    "#to run command line options, inclde those options in the string and set shell argument to true\n",
    "#current_month = subprocess.call('/bin/date +%B', shell=True)"
   ]
  },
  {
   "cell_type": "code",
   "execution_count": 2,
   "metadata": {},
   "outputs": [],
   "source": [
    "#saving program output\n",
    "#subprocess.check_output('/bin/date +%B', shell=True)\n",
    "#this will usually result in the '\\n' at the end so you will have to rstrip it before using the output"
   ]
  },
  {
   "cell_type": "code",
   "execution_count": null,
   "metadata": {},
   "outputs": [],
   "source": [
    "#interacting user input\n",
    "accession = input('Enter the accession name')\n",
    "#do something with the accession variable\n",
    "#adds a promt to tell the user what to do at this point (it is best to have this at the beginning of the code)"
   ]
  },
  {
   "cell_type": "code",
   "execution_count": null,
   "metadata": {},
   "outputs": [],
   "source": [
    "#command line arguments\n",
    "import sys\n",
    "print(sys.argv)\n",
    "#i don't get it"
   ]
  },
  {
   "cell_type": "code",
   "execution_count": null,
   "metadata": {},
   "outputs": [],
   "source": []
  }
 ],
 "metadata": {
  "kernelspec": {
   "display_name": "Python 3",
   "language": "python",
   "name": "python3"
  },
  "language_info": {
   "codemirror_mode": {
    "name": "ipython",
    "version": 3
   },
   "file_extension": ".py",
   "mimetype": "text/x-python",
   "name": "python",
   "nbconvert_exporter": "python",
   "pygments_lexer": "ipython3",
   "version": "3.7.4"
  }
 },
 "nbformat": 4,
 "nbformat_minor": 2
}
